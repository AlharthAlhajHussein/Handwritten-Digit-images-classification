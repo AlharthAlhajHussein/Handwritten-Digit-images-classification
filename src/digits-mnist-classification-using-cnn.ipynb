{
 "cells": [
  {
   "cell_type": "markdown",
   "metadata": {},
   "source": [
    "## About the Dataset\n",
    "> * MNIST (\"Modified National Institute of Standards and Technology\") is the de facto “hello world” dataset of computer vision.   \n",
    "> * Since its release in 1999, this classic dataset of handwritten images has served as the basis for benchmarking classification algorithms. \n",
    "> * As new machine learning techniques emerge, MNIST remains a reliable resource for researchers and learners alike.\n",
    "\n",
    "## Task\n",
    "> * To correctly identify digits from a dataset of tens of thousands of handwritten images in the test dataset"
   ]
  },
  {
   "cell_type": "markdown",
   "metadata": {},
   "source": [
    "# Libraries"
   ]
  },
  {
   "cell_type": "code",
   "execution_count": 1,
   "metadata": {
    "_cell_guid": "b1076dfc-b9ad-4769-8c92-a6c4dae69d19",
    "_uuid": "8f2839f25d086af736a60e9eeb907d3b93b6e0e5",
    "execution": {
     "iopub.execute_input": "2025-09-22T20:26:49.028236Z",
     "iopub.status.busy": "2025-09-22T20:26:49.027968Z",
     "iopub.status.idle": "2025-09-22T20:26:52.082567Z",
     "shell.execute_reply": "2025-09-22T20:26:52.081629Z",
     "shell.execute_reply.started": "2025-09-22T20:26:49.028196Z"
    },
    "trusted": true
   },
   "outputs": [],
   "source": [
    "# for numerical analysis\n",
    "import numpy as np \n",
    "# to store and process in a dataframe\n",
    "import pandas as pd \n",
    "\n",
    "# for ploting graphs\n",
    "import matplotlib.pyplot as plt\n",
    "# advancec ploting\n",
    "import seaborn as sns\n",
    "\n",
    "# image processing\n",
    "import matplotlib.image as mpimg\n",
    "\n",
    "# train test split\n",
    "from sklearn.model_selection import train_test_split\n",
    "# model performance metrics\n",
    "from sklearn.metrics import confusion_matrix, classification_report\n",
    "\n",
    "# utility functions\n",
    "from tensorflow.keras.utils import to_categorical\n",
    "# sequential model\n",
    "from tensorflow.keras.models import Sequential\n",
    "# layers\n",
    "from tensorflow.keras.layers import Conv2D, MaxPool2D, Dense, Flatten, Dropout\n",
    "\n",
    "\n",
    "# from keras.optimizers import RMSprop\n",
    "# from keras.preprocessing.image import ImageDataGenerator\n",
    "# from keras.callbacks import ReduceLROnPlateau"
   ]
  },
  {
   "cell_type": "markdown",
   "metadata": {},
   "source": [
    "# Data"
   ]
  },
  {
   "cell_type": "code",
   "execution_count": null,
   "metadata": {
    "execution": {
     "iopub.execute_input": "2025-09-22T20:27:11.852124Z",
     "iopub.status.busy": "2025-09-22T20:27:11.851856Z",
     "iopub.status.idle": "2025-09-22T20:27:12.880002Z",
     "shell.execute_reply": "2025-09-22T20:27:12.879299Z",
     "shell.execute_reply.started": "2025-09-22T20:27:11.852085Z"
    },
    "trusted": true
   },
   "outputs": [
    {
     "name": "stdout",
     "output_type": "stream",
     "text": [
      "sample_submission.csv  test.csv  train.csv\n"
     ]
    }
   ],
   "source": [
    "# list of files\n",
    "! ls /digit-recognizer"
   ]
  },
  {
   "cell_type": "code",
   "execution_count": null,
   "metadata": {
    "_cell_guid": "79c7e3d0-c299-4dcb-8224-4455121ee9b0",
    "_uuid": "d629ff2d2480ee46fbb7e2d37f6b5fab8052498a",
    "execution": {
     "iopub.execute_input": "2025-09-22T20:27:47.352629Z",
     "iopub.status.busy": "2025-09-22T20:27:47.352282Z",
     "iopub.status.idle": "2025-09-22T20:27:52.469876Z",
     "shell.execute_reply": "2025-09-22T20:27:52.468970Z",
     "shell.execute_reply.started": "2025-09-22T20:27:47.352572Z"
    },
    "trusted": true
   },
   "outputs": [],
   "source": [
    "# import train and test dataset\n",
    "train = pd.read_csv(\"digit-recognizer\\\\train.csv\")\n",
    "test = pd.read_csv(\"digit-recognizer\\\\test.csv\")\n"
   ]
  },
  {
   "cell_type": "code",
   "execution_count": 4,
   "metadata": {
    "execution": {
     "iopub.execute_input": "2025-09-22T20:27:57.407513Z",
     "iopub.status.busy": "2025-09-22T20:27:57.407168Z",
     "iopub.status.idle": "2025-09-22T20:27:57.439741Z",
     "shell.execute_reply": "2025-09-22T20:27:57.439013Z",
     "shell.execute_reply.started": "2025-09-22T20:27:57.407459Z"
    },
    "trusted": true
   },
   "outputs": [
    {
     "data": {
      "text/html": [
       "<div>\n",
       "<style scoped>\n",
       "    .dataframe tbody tr th:only-of-type {\n",
       "        vertical-align: middle;\n",
       "    }\n",
       "\n",
       "    .dataframe tbody tr th {\n",
       "        vertical-align: top;\n",
       "    }\n",
       "\n",
       "    .dataframe thead th {\n",
       "        text-align: right;\n",
       "    }\n",
       "</style>\n",
       "<table border=\"1\" class=\"dataframe\">\n",
       "  <thead>\n",
       "    <tr style=\"text-align: right;\">\n",
       "      <th></th>\n",
       "      <th>label</th>\n",
       "      <th>pixel0</th>\n",
       "      <th>pixel1</th>\n",
       "      <th>pixel2</th>\n",
       "      <th>pixel3</th>\n",
       "      <th>pixel4</th>\n",
       "      <th>pixel5</th>\n",
       "      <th>pixel6</th>\n",
       "      <th>pixel7</th>\n",
       "      <th>pixel8</th>\n",
       "      <th>...</th>\n",
       "      <th>pixel774</th>\n",
       "      <th>pixel775</th>\n",
       "      <th>pixel776</th>\n",
       "      <th>pixel777</th>\n",
       "      <th>pixel778</th>\n",
       "      <th>pixel779</th>\n",
       "      <th>pixel780</th>\n",
       "      <th>pixel781</th>\n",
       "      <th>pixel782</th>\n",
       "      <th>pixel783</th>\n",
       "    </tr>\n",
       "  </thead>\n",
       "  <tbody>\n",
       "    <tr>\n",
       "      <th>0</th>\n",
       "      <td>1</td>\n",
       "      <td>0</td>\n",
       "      <td>0</td>\n",
       "      <td>0</td>\n",
       "      <td>0</td>\n",
       "      <td>0</td>\n",
       "      <td>0</td>\n",
       "      <td>0</td>\n",
       "      <td>0</td>\n",
       "      <td>0</td>\n",
       "      <td>...</td>\n",
       "      <td>0</td>\n",
       "      <td>0</td>\n",
       "      <td>0</td>\n",
       "      <td>0</td>\n",
       "      <td>0</td>\n",
       "      <td>0</td>\n",
       "      <td>0</td>\n",
       "      <td>0</td>\n",
       "      <td>0</td>\n",
       "      <td>0</td>\n",
       "    </tr>\n",
       "    <tr>\n",
       "      <th>1</th>\n",
       "      <td>0</td>\n",
       "      <td>0</td>\n",
       "      <td>0</td>\n",
       "      <td>0</td>\n",
       "      <td>0</td>\n",
       "      <td>0</td>\n",
       "      <td>0</td>\n",
       "      <td>0</td>\n",
       "      <td>0</td>\n",
       "      <td>0</td>\n",
       "      <td>...</td>\n",
       "      <td>0</td>\n",
       "      <td>0</td>\n",
       "      <td>0</td>\n",
       "      <td>0</td>\n",
       "      <td>0</td>\n",
       "      <td>0</td>\n",
       "      <td>0</td>\n",
       "      <td>0</td>\n",
       "      <td>0</td>\n",
       "      <td>0</td>\n",
       "    </tr>\n",
       "    <tr>\n",
       "      <th>2</th>\n",
       "      <td>1</td>\n",
       "      <td>0</td>\n",
       "      <td>0</td>\n",
       "      <td>0</td>\n",
       "      <td>0</td>\n",
       "      <td>0</td>\n",
       "      <td>0</td>\n",
       "      <td>0</td>\n",
       "      <td>0</td>\n",
       "      <td>0</td>\n",
       "      <td>...</td>\n",
       "      <td>0</td>\n",
       "      <td>0</td>\n",
       "      <td>0</td>\n",
       "      <td>0</td>\n",
       "      <td>0</td>\n",
       "      <td>0</td>\n",
       "      <td>0</td>\n",
       "      <td>0</td>\n",
       "      <td>0</td>\n",
       "      <td>0</td>\n",
       "    </tr>\n",
       "    <tr>\n",
       "      <th>3</th>\n",
       "      <td>4</td>\n",
       "      <td>0</td>\n",
       "      <td>0</td>\n",
       "      <td>0</td>\n",
       "      <td>0</td>\n",
       "      <td>0</td>\n",
       "      <td>0</td>\n",
       "      <td>0</td>\n",
       "      <td>0</td>\n",
       "      <td>0</td>\n",
       "      <td>...</td>\n",
       "      <td>0</td>\n",
       "      <td>0</td>\n",
       "      <td>0</td>\n",
       "      <td>0</td>\n",
       "      <td>0</td>\n",
       "      <td>0</td>\n",
       "      <td>0</td>\n",
       "      <td>0</td>\n",
       "      <td>0</td>\n",
       "      <td>0</td>\n",
       "    </tr>\n",
       "    <tr>\n",
       "      <th>4</th>\n",
       "      <td>0</td>\n",
       "      <td>0</td>\n",
       "      <td>0</td>\n",
       "      <td>0</td>\n",
       "      <td>0</td>\n",
       "      <td>0</td>\n",
       "      <td>0</td>\n",
       "      <td>0</td>\n",
       "      <td>0</td>\n",
       "      <td>0</td>\n",
       "      <td>...</td>\n",
       "      <td>0</td>\n",
       "      <td>0</td>\n",
       "      <td>0</td>\n",
       "      <td>0</td>\n",
       "      <td>0</td>\n",
       "      <td>0</td>\n",
       "      <td>0</td>\n",
       "      <td>0</td>\n",
       "      <td>0</td>\n",
       "      <td>0</td>\n",
       "    </tr>\n",
       "  </tbody>\n",
       "</table>\n",
       "<p>5 rows × 785 columns</p>\n",
       "</div>"
      ],
      "text/plain": [
       "   label  pixel0  pixel1  pixel2  pixel3  pixel4  pixel5  pixel6  pixel7  \\\n",
       "0      1       0       0       0       0       0       0       0       0   \n",
       "1      0       0       0       0       0       0       0       0       0   \n",
       "2      1       0       0       0       0       0       0       0       0   \n",
       "3      4       0       0       0       0       0       0       0       0   \n",
       "4      0       0       0       0       0       0       0       0       0   \n",
       "\n",
       "   pixel8  ...  pixel774  pixel775  pixel776  pixel777  pixel778  pixel779  \\\n",
       "0       0  ...         0         0         0         0         0         0   \n",
       "1       0  ...         0         0         0         0         0         0   \n",
       "2       0  ...         0         0         0         0         0         0   \n",
       "3       0  ...         0         0         0         0         0         0   \n",
       "4       0  ...         0         0         0         0         0         0   \n",
       "\n",
       "   pixel780  pixel781  pixel782  pixel783  \n",
       "0         0         0         0         0  \n",
       "1         0         0         0         0  \n",
       "2         0         0         0         0  \n",
       "3         0         0         0         0  \n",
       "4         0         0         0         0  \n",
       "\n",
       "[5 rows x 785 columns]"
      ]
     },
     "execution_count": 4,
     "metadata": {},
     "output_type": "execute_result"
    }
   ],
   "source": [
    "# training dataset\n",
    "train.head()"
   ]
  },
  {
   "cell_type": "code",
   "execution_count": 6,
   "metadata": {
    "execution": {
     "iopub.execute_input": "2025-09-22T20:34:12.455866Z",
     "iopub.status.busy": "2025-09-22T20:34:12.455533Z",
     "iopub.status.idle": "2025-09-22T20:34:12.471945Z",
     "shell.execute_reply": "2025-09-22T20:34:12.471169Z",
     "shell.execute_reply.started": "2025-09-22T20:34:12.455813Z"
    },
    "trusted": true
   },
   "outputs": [
    {
     "data": {
      "text/html": [
       "<div>\n",
       "<style scoped>\n",
       "    .dataframe tbody tr th:only-of-type {\n",
       "        vertical-align: middle;\n",
       "    }\n",
       "\n",
       "    .dataframe tbody tr th {\n",
       "        vertical-align: top;\n",
       "    }\n",
       "\n",
       "    .dataframe thead th {\n",
       "        text-align: right;\n",
       "    }\n",
       "</style>\n",
       "<table border=\"1\" class=\"dataframe\">\n",
       "  <thead>\n",
       "    <tr style=\"text-align: right;\">\n",
       "      <th></th>\n",
       "      <th>pixel0</th>\n",
       "      <th>pixel1</th>\n",
       "      <th>pixel2</th>\n",
       "      <th>pixel3</th>\n",
       "      <th>pixel4</th>\n",
       "      <th>pixel5</th>\n",
       "      <th>pixel6</th>\n",
       "      <th>pixel7</th>\n",
       "      <th>pixel8</th>\n",
       "      <th>pixel9</th>\n",
       "      <th>...</th>\n",
       "      <th>pixel774</th>\n",
       "      <th>pixel775</th>\n",
       "      <th>pixel776</th>\n",
       "      <th>pixel777</th>\n",
       "      <th>pixel778</th>\n",
       "      <th>pixel779</th>\n",
       "      <th>pixel780</th>\n",
       "      <th>pixel781</th>\n",
       "      <th>pixel782</th>\n",
       "      <th>pixel783</th>\n",
       "    </tr>\n",
       "  </thead>\n",
       "  <tbody>\n",
       "    <tr>\n",
       "      <th>0</th>\n",
       "      <td>0</td>\n",
       "      <td>0</td>\n",
       "      <td>0</td>\n",
       "      <td>0</td>\n",
       "      <td>0</td>\n",
       "      <td>0</td>\n",
       "      <td>0</td>\n",
       "      <td>0</td>\n",
       "      <td>0</td>\n",
       "      <td>0</td>\n",
       "      <td>...</td>\n",
       "      <td>0</td>\n",
       "      <td>0</td>\n",
       "      <td>0</td>\n",
       "      <td>0</td>\n",
       "      <td>0</td>\n",
       "      <td>0</td>\n",
       "      <td>0</td>\n",
       "      <td>0</td>\n",
       "      <td>0</td>\n",
       "      <td>0</td>\n",
       "    </tr>\n",
       "    <tr>\n",
       "      <th>1</th>\n",
       "      <td>0</td>\n",
       "      <td>0</td>\n",
       "      <td>0</td>\n",
       "      <td>0</td>\n",
       "      <td>0</td>\n",
       "      <td>0</td>\n",
       "      <td>0</td>\n",
       "      <td>0</td>\n",
       "      <td>0</td>\n",
       "      <td>0</td>\n",
       "      <td>...</td>\n",
       "      <td>0</td>\n",
       "      <td>0</td>\n",
       "      <td>0</td>\n",
       "      <td>0</td>\n",
       "      <td>0</td>\n",
       "      <td>0</td>\n",
       "      <td>0</td>\n",
       "      <td>0</td>\n",
       "      <td>0</td>\n",
       "      <td>0</td>\n",
       "    </tr>\n",
       "    <tr>\n",
       "      <th>2</th>\n",
       "      <td>0</td>\n",
       "      <td>0</td>\n",
       "      <td>0</td>\n",
       "      <td>0</td>\n",
       "      <td>0</td>\n",
       "      <td>0</td>\n",
       "      <td>0</td>\n",
       "      <td>0</td>\n",
       "      <td>0</td>\n",
       "      <td>0</td>\n",
       "      <td>...</td>\n",
       "      <td>0</td>\n",
       "      <td>0</td>\n",
       "      <td>0</td>\n",
       "      <td>0</td>\n",
       "      <td>0</td>\n",
       "      <td>0</td>\n",
       "      <td>0</td>\n",
       "      <td>0</td>\n",
       "      <td>0</td>\n",
       "      <td>0</td>\n",
       "    </tr>\n",
       "    <tr>\n",
       "      <th>3</th>\n",
       "      <td>0</td>\n",
       "      <td>0</td>\n",
       "      <td>0</td>\n",
       "      <td>0</td>\n",
       "      <td>0</td>\n",
       "      <td>0</td>\n",
       "      <td>0</td>\n",
       "      <td>0</td>\n",
       "      <td>0</td>\n",
       "      <td>0</td>\n",
       "      <td>...</td>\n",
       "      <td>0</td>\n",
       "      <td>0</td>\n",
       "      <td>0</td>\n",
       "      <td>0</td>\n",
       "      <td>0</td>\n",
       "      <td>0</td>\n",
       "      <td>0</td>\n",
       "      <td>0</td>\n",
       "      <td>0</td>\n",
       "      <td>0</td>\n",
       "    </tr>\n",
       "    <tr>\n",
       "      <th>4</th>\n",
       "      <td>0</td>\n",
       "      <td>0</td>\n",
       "      <td>0</td>\n",
       "      <td>0</td>\n",
       "      <td>0</td>\n",
       "      <td>0</td>\n",
       "      <td>0</td>\n",
       "      <td>0</td>\n",
       "      <td>0</td>\n",
       "      <td>0</td>\n",
       "      <td>...</td>\n",
       "      <td>0</td>\n",
       "      <td>0</td>\n",
       "      <td>0</td>\n",
       "      <td>0</td>\n",
       "      <td>0</td>\n",
       "      <td>0</td>\n",
       "      <td>0</td>\n",
       "      <td>0</td>\n",
       "      <td>0</td>\n",
       "      <td>0</td>\n",
       "    </tr>\n",
       "  </tbody>\n",
       "</table>\n",
       "<p>5 rows × 784 columns</p>\n",
       "</div>"
      ],
      "text/plain": [
       "   pixel0  pixel1  pixel2  pixel3  pixel4  pixel5  pixel6  pixel7  pixel8  \\\n",
       "0       0       0       0       0       0       0       0       0       0   \n",
       "1       0       0       0       0       0       0       0       0       0   \n",
       "2       0       0       0       0       0       0       0       0       0   \n",
       "3       0       0       0       0       0       0       0       0       0   \n",
       "4       0       0       0       0       0       0       0       0       0   \n",
       "\n",
       "   pixel9  ...  pixel774  pixel775  pixel776  pixel777  pixel778  pixel779  \\\n",
       "0       0  ...         0         0         0         0         0         0   \n",
       "1       0  ...         0         0         0         0         0         0   \n",
       "2       0  ...         0         0         0         0         0         0   \n",
       "3       0  ...         0         0         0         0         0         0   \n",
       "4       0  ...         0         0         0         0         0         0   \n",
       "\n",
       "   pixel780  pixel781  pixel782  pixel783  \n",
       "0         0         0         0         0  \n",
       "1         0         0         0         0  \n",
       "2         0         0         0         0  \n",
       "3         0         0         0         0  \n",
       "4         0         0         0         0  \n",
       "\n",
       "[5 rows x 784 columns]"
      ]
     },
     "execution_count": 6,
     "metadata": {},
     "output_type": "execute_result"
    }
   ],
   "source": [
    "# test dataset\n",
    "test.head()"
   ]
  },
  {
   "cell_type": "code",
   "execution_count": 7,
   "metadata": {
    "execution": {
     "iopub.execute_input": "2025-09-22T20:34:29.027205Z",
     "iopub.status.busy": "2025-09-22T20:34:29.026934Z",
     "iopub.status.idle": "2025-09-22T20:34:29.147845Z",
     "shell.execute_reply": "2025-09-22T20:34:29.146924Z",
     "shell.execute_reply.started": "2025-09-22T20:34:29.027167Z"
    },
    "trusted": true
   },
   "outputs": [
    {
     "name": "stdout",
     "output_type": "stream",
     "text": [
      "0\n",
      "0\n"
     ]
    }
   ],
   "source": [
    "# looking for missing values\n",
    "print(train.isna().sum().sum())\n",
    "print(test.isna().sum().sum())"
   ]
  },
  {
   "cell_type": "markdown",
   "metadata": {},
   "source": [
    "# EDA"
   ]
  },
  {
   "cell_type": "markdown",
   "metadata": {},
   "source": [
    "### Label count"
   ]
  },
  {
   "cell_type": "code",
   "execution_count": 15,
   "metadata": {
    "execution": {
     "iopub.execute_input": "2025-09-22T20:38:10.331517Z",
     "iopub.status.busy": "2025-09-22T20:38:10.331237Z",
     "iopub.status.idle": "2025-09-22T20:38:10.477435Z",
     "shell.execute_reply": "2025-09-22T20:38:10.476591Z",
     "shell.execute_reply.started": "2025-09-22T20:38:10.331478Z"
    },
    "trusted": true
   },
   "outputs": [
    {
     "data": {
      "image/png": "[encoded data removed]",
      "text/plain": [
       "<Figure size 576x360 with 1 Axes>"
      ]
     },
     "metadata": {
      "needs_background": "light"
     },
     "output_type": "display_data"
    }
   ],
   "source": [
    "plt.figure(figsize=(8, 5))\n",
    "sns.countplot(train['label'], palette='Dark2')\n",
    "plt.title('Train labels count')\n",
    "plt.show()"
   ]
  },
  {
   "cell_type": "code",
   "execution_count": 16,
   "metadata": {
    "execution": {
     "iopub.execute_input": "2025-09-22T20:38:16.087126Z",
     "iopub.status.busy": "2025-09-22T20:38:16.086850Z",
     "iopub.status.idle": "2025-09-22T20:38:16.103196Z",
     "shell.execute_reply": "2025-09-22T20:38:16.102415Z",
     "shell.execute_reply.started": "2025-09-22T20:38:16.087085Z"
    },
    "trusted": true
   },
   "outputs": [
    {
     "data": {
      "text/plain": [
       "0    4132\n",
       "1    4684\n",
       "2    4177\n",
       "3    4351\n",
       "4    4072\n",
       "5    3795\n",
       "6    4137\n",
       "7    4401\n",
       "8    4063\n",
       "9    4188\n",
       "Name: label, dtype: int64"
      ]
     },
     "execution_count": 16,
     "metadata": {},
     "output_type": "execute_result"
    }
   ],
   "source": [
    "train['label'].value_counts().sort_index()"
   ]
  },
  {
   "cell_type": "code",
   "execution_count": 17,
   "metadata": {
    "execution": {
     "iopub.execute_input": "2025-09-22T20:38:31.363846Z",
     "iopub.status.busy": "2025-09-22T20:38:31.363587Z",
     "iopub.status.idle": "2025-09-22T20:38:31.838194Z",
     "shell.execute_reply": "2025-09-22T20:38:31.837433Z",
     "shell.execute_reply.started": "2025-09-22T20:38:31.363810Z"
    },
    "trusted": true
   },
   "outputs": [
    {
     "data": {
      "image/png": "[encoded data removed]",
      "text/plain": [
       "<Figure size 1296x576 with 8 Axes>"
      ]
     },
     "metadata": {
      "needs_background": "light"
     },
     "output_type": "display_data"
    }
   ],
   "source": [
    "# first few train images with labels\n",
    "fig, ax = plt.subplots(figsize=(18, 8))\n",
    "for ind, row in train.iloc[:8, :].iterrows():\n",
    "    plt.subplot(2, 4, ind+1)\n",
    "    plt.title(row[0])\n",
    "    img = row.to_numpy()[1:].reshape(28, 28)\n",
    "    fig.suptitle('Train images', fontsize=24)\n",
    "    plt.axis('off')\n",
    "    plt.imshow(img, cmap='magma')"
   ]
  },
  {
   "cell_type": "markdown",
   "metadata": {
    "_kg_hide-input": true
   },
   "source": [
    "> Test images doesn't have labels  \n",
    "> We need to create a model to predict them"
   ]
  },
  {
   "cell_type": "code",
   "execution_count": 18,
   "metadata": {
    "execution": {
     "iopub.execute_input": "2025-09-22T20:40:49.677767Z",
     "iopub.status.busy": "2025-09-22T20:40:49.677471Z",
     "iopub.status.idle": "2025-09-22T20:40:50.103771Z",
     "shell.execute_reply": "2025-09-22T20:40:50.103104Z",
     "shell.execute_reply.started": "2025-09-22T20:40:49.677729Z"
    },
    "trusted": true
   },
   "outputs": [
    {
     "data": {
      "image/png": "[encoded data removed]",
      "text/plain": [
       "<Figure size 1296x576 with 8 Axes>"
      ]
     },
     "metadata": {
      "needs_background": "light"
     },
     "output_type": "display_data"
    }
   ],
   "source": [
    "# first few test images\n",
    "fig, ax = plt.subplots(figsize=(18, 8))\n",
    "for ind, row in test.iloc[:8, :].iterrows():\n",
    "    plt.subplot(2, 4, ind+1)\n",
    "    img = row.to_numpy()[:].reshape(28, 28)\n",
    "    fig.suptitle('Test images', fontsize=24)\n",
    "    plt.axis('off')\n",
    "    plt.imshow(img, cmap='magma')"
   ]
  },
  {
   "cell_type": "markdown",
   "metadata": {},
   "source": [
    "# Preprocessing"
   ]
  },
  {
   "cell_type": "code",
   "execution_count": 19,
   "metadata": {
    "execution": {
     "iopub.execute_input": "2025-09-22T20:41:48.672830Z",
     "iopub.status.busy": "2025-09-22T20:41:48.672508Z",
     "iopub.status.idle": "2025-09-22T20:41:48.678669Z",
     "shell.execute_reply": "2025-09-22T20:41:48.677870Z",
     "shell.execute_reply.started": "2025-09-22T20:41:48.672773Z"
    },
    "trusted": true
   },
   "outputs": [
    {
     "name": "stdout",
     "output_type": "stream",
     "text": [
      "(42000, 784)\n",
      "(42000,)\n",
      "(28000, 784)\n"
     ]
    }
   ],
   "source": [
    "# split into image and labels and convert to numpy array\n",
    "X = train.iloc[:, 1:].to_numpy()\n",
    "y = train['label'].to_numpy()\n",
    "\n",
    "# test dataset\n",
    "test = test.loc[:, :].to_numpy()\n",
    "\n",
    "for i in [X, y, test]:\n",
    "    print(i.shape)"
   ]
  },
  {
   "cell_type": "code",
   "execution_count": 20,
   "metadata": {
    "execution": {
     "iopub.execute_input": "2025-09-22T20:42:22.940429Z",
     "iopub.status.busy": "2025-09-22T20:42:22.940135Z",
     "iopub.status.idle": "2025-09-22T20:42:23.334288Z",
     "shell.execute_reply": "2025-09-22T20:42:23.333685Z",
     "shell.execute_reply.started": "2025-09-22T20:42:22.940386Z"
    },
    "trusted": true
   },
   "outputs": [],
   "source": [
    "# normalize the data\n",
    "# ==================\n",
    "\n",
    "X = X / 255.0\n",
    "test = test / 255.0"
   ]
  },
  {
   "cell_type": "code",
   "execution_count": 21,
   "metadata": {
    "execution": {
     "iopub.execute_input": "2025-09-22T20:43:55.921391Z",
     "iopub.status.busy": "2025-09-22T20:43:55.921082Z",
     "iopub.status.idle": "2025-09-22T20:43:55.926492Z",
     "shell.execute_reply": "2025-09-22T20:43:55.925832Z",
     "shell.execute_reply.started": "2025-09-22T20:43:55.921317Z"
    },
    "trusted": true
   },
   "outputs": [
    {
     "name": "stdout",
     "output_type": "stream",
     "text": [
      "(42000, 784)\n",
      "(28000, 784)\n",
      "(42000, 28, 28, 1)\n",
      "(28000, 28, 28, 1)\n"
     ]
    }
   ],
   "source": [
    "# reshape dataset\n",
    "# ===============\n",
    "\n",
    "# shape of training and test dataset\n",
    "print(X.shape)\n",
    "print(test.shape)\n",
    "\n",
    "# reshape the dataframe to 3x3 matrix with 1 channel grey scale values\n",
    "X = X.reshape(-1,28,28,1)\n",
    "test = test.reshape(-1,28,28,1)\n",
    "\n",
    "# shape of training and test dataset\n",
    "print(X.shape)\n",
    "print(test.shape)"
   ]
  },
  {
   "cell_type": "code",
   "execution_count": 23,
   "metadata": {
    "execution": {
     "iopub.execute_input": "2025-09-22T20:48:07.573984Z",
     "iopub.status.busy": "2025-09-22T20:48:07.573706Z",
     "iopub.status.idle": "2025-09-22T20:48:07.580347Z",
     "shell.execute_reply": "2025-09-22T20:48:07.579555Z",
     "shell.execute_reply.started": "2025-09-22T20:48:07.573946Z"
    },
    "trusted": true
   },
   "outputs": [
    {
     "name": "stdout",
     "output_type": "stream",
     "text": [
      "(42000,)\n",
      "1\n",
      "(42000, 10)\n",
      "[0. 1. 0. 0. 0. 0. 0. 0. 0. 0.]\n"
     ]
    }
   ],
   "source": [
    "# one hot encode target\n",
    "# =====================\n",
    "\n",
    "# shape and values of target\n",
    "print(y.shape)\n",
    "print(y[0])\n",
    "\n",
    "# convert Y_train to categorical by one-hot-encoding\n",
    "y_enc = to_categorical(y, num_classes = 10)\n",
    "\n",
    "# shape and values of target\n",
    "print(y_enc.shape)\n",
    "print(y_enc[0])"
   ]
  },
  {
   "cell_type": "code",
   "execution_count": 27,
   "metadata": {
    "execution": {
     "iopub.execute_input": "2025-09-22T20:58:56.271856Z",
     "iopub.status.busy": "2025-09-22T20:58:56.271560Z",
     "iopub.status.idle": "2025-09-22T20:58:57.084941Z",
     "shell.execute_reply": "2025-09-22T20:58:57.084040Z",
     "shell.execute_reply.started": "2025-09-22T20:58:56.271801Z"
    },
    "trusted": true
   },
   "outputs": [
    {
     "name": "stdout",
     "output_type": "stream",
     "text": [
      "(29400, 28, 28, 1)\n",
      "(29400, 10)\n",
      "(12600, 28, 28, 1)\n",
      "(12600, 10)\n"
     ]
    }
   ],
   "source": [
    "# train test split\n",
    "# ================\n",
    "\n",
    "# random seed\n",
    "random_seed = 2\n",
    "\n",
    "# train validation split\n",
    "X_train, X_val, y_train_enc, y_val_enc = train_test_split(X, y_enc, test_size=0.3)\n",
    "\n",
    "# shape\n",
    "for i in [X_train, y_train_enc, X_val, y_val_enc]:\n",
    "    print(i.shape)"
   ]
  },
  {
   "cell_type": "markdown",
   "metadata": {},
   "source": [
    "## Plot images"
   ]
  },
  {
   "cell_type": "code",
   "execution_count": 28,
   "metadata": {
    "execution": {
     "iopub.execute_input": "2025-09-22T20:58:57.086721Z",
     "iopub.status.busy": "2025-09-22T20:58:57.086411Z",
     "iopub.status.idle": "2025-09-22T20:58:57.217406Z",
     "shell.execute_reply": "2025-09-22T20:58:57.216718Z",
     "shell.execute_reply.started": "2025-09-22T20:58:57.086664Z"
    },
    "trusted": true
   },
   "outputs": [
    {
     "name": "stdout",
     "output_type": "stream",
     "text": [
      "[0. 0. 0. 0. 0. 0. 0. 0. 0. 1.]\n"
     ]
    },
    {
     "data": {
      "image/png": "[encoded data removed]",
      "text/plain": [
       "<Figure size 432x288 with 1 Axes>"
      ]
     },
     "metadata": {
      "needs_background": "light"
     },
     "output_type": "display_data"
    }
   ],
   "source": [
    "g = plt.imshow(X_train[0][:,:,0])\n",
    "print(y_train_enc[0])"
   ]
  },
  {
   "cell_type": "code",
   "execution_count": 29,
   "metadata": {
    "execution": {
     "iopub.execute_input": "2025-09-22T20:59:21.429743Z",
     "iopub.status.busy": "2025-09-22T20:59:21.429430Z",
     "iopub.status.idle": "2025-09-22T20:59:21.553416Z",
     "shell.execute_reply": "2025-09-22T20:59:21.552613Z",
     "shell.execute_reply.started": "2025-09-22T20:59:21.429685Z"
    },
    "trusted": true
   },
   "outputs": [
    {
     "name": "stdout",
     "output_type": "stream",
     "text": [
      "[0. 0. 1. 0. 0. 0. 0. 0. 0. 0.]\n"
     ]
    },
    {
     "data": {
      "image/png": "[encoded data removed]",
      "text/plain": [
       "<Figure size 432x288 with 1 Axes>"
      ]
     },
     "metadata": {
      "needs_background": "light"
     },
     "output_type": "display_data"
    }
   ],
   "source": [
    "g = plt.imshow(X_train[9][:,:,0])\n",
    "print(y_train_enc[9])"
   ]
  },
  {
   "cell_type": "markdown",
   "metadata": {},
   "source": [
    "# CNN"
   ]
  },
  {
   "cell_type": "markdown",
   "metadata": {},
   "source": [
    "### Model parameters"
   ]
  },
  {
   "cell_type": "code",
   "execution_count": 30,
   "metadata": {
    "execution": {
     "iopub.execute_input": "2025-09-22T20:59:54.641223Z",
     "iopub.status.busy": "2025-09-22T20:59:54.640959Z",
     "iopub.status.idle": "2025-09-22T20:59:54.645123Z",
     "shell.execute_reply": "2025-09-22T20:59:54.644423Z",
     "shell.execute_reply.started": "2025-09-22T20:59:54.641185Z"
    },
    "trusted": true
   },
   "outputs": [],
   "source": [
    "INPUT_SHAPE = (28,28,1)\n",
    "OUTPUT_SHAPE = 10\n",
    "BATCH_SIZE = 128\n",
    "EPOCHS = 10\n",
    "VERBOSE = 2"
   ]
  },
  {
   "cell_type": "markdown",
   "metadata": {},
   "source": [
    "### Define CNN Model"
   ]
  },
  {
   "cell_type": "code",
   "execution_count": 31,
   "metadata": {
    "execution": {
     "iopub.execute_input": "2025-09-22T21:05:29.178469Z",
     "iopub.status.busy": "2025-09-22T21:05:29.178076Z",
     "iopub.status.idle": "2025-09-22T21:05:35.658163Z",
     "shell.execute_reply": "2025-09-22T21:05:35.657420Z",
     "shell.execute_reply.started": "2025-09-22T21:05:29.178406Z"
    },
    "trusted": true
   },
   "outputs": [],
   "source": [
    "model = Sequential()\n",
    "\n",
    "model.add(Conv2D(32, kernel_size=(3,3), activation='relu', input_shape=INPUT_SHAPE))\n",
    "model.add(MaxPool2D((2,2)))\n",
    "\n",
    "model.add(Conv2D(64, kernel_size=(3,3), activation='relu'))\n",
    "model.add(MaxPool2D((2,2)))\n",
    "\n",
    "model.add(Flatten())\n",
    "\n",
    "model.add(Dense(128, activation='relu'))\n",
    "model.add(Dropout(0.2))\n",
    "\n",
    "model.add(Dense(64, activation='relu'))\n",
    "model.add(Dropout(0.2))\n",
    "\n",
    "model.add(Dense(10, activation='softmax'))"
   ]
  },
  {
   "cell_type": "markdown",
   "metadata": {},
   "source": [
    "### Compile model"
   ]
  },
  {
   "cell_type": "code",
   "execution_count": 32,
   "metadata": {
    "execution": {
     "iopub.execute_input": "2025-09-22T21:05:51.436422Z",
     "iopub.status.busy": "2025-09-22T21:05:51.436116Z",
     "iopub.status.idle": "2025-09-22T21:05:51.486218Z",
     "shell.execute_reply": "2025-09-22T21:05:51.485567Z",
     "shell.execute_reply.started": "2025-09-22T21:05:51.436376Z"
    },
    "trusted": true
   },
   "outputs": [],
   "source": [
    "model.compile(optimizer='adam', \n",
    "              loss='categorical_crossentropy', \n",
    "              metrics=['accuracy'])"
   ]
  },
  {
   "cell_type": "markdown",
   "metadata": {},
   "source": [
    "### Model summary"
   ]
  },
  {
   "cell_type": "code",
   "execution_count": 33,
   "metadata": {
    "execution": {
     "iopub.execute_input": "2025-09-22T21:06:04.463862Z",
     "iopub.status.busy": "2025-09-22T21:06:04.463587Z",
     "iopub.status.idle": "2025-09-22T21:06:04.471088Z",
     "shell.execute_reply": "2025-09-22T21:06:04.470380Z",
     "shell.execute_reply.started": "2025-09-22T21:06:04.463821Z"
    },
    "trusted": true
   },
   "outputs": [
    {
     "name": "stdout",
     "output_type": "stream",
     "text": [
      "Model: \"sequential\"\n",
      "_________________________________________________________________\n",
      "Layer (type)                 Output Shape              Param #   \n",
      "=================================================================\n",
      "conv2d (Conv2D)              (None, 26, 26, 32)        320       \n",
      "_________________________________________________________________\n",
      "max_pooling2d (MaxPooling2D) (None, 13, 13, 32)        0         \n",
      "_________________________________________________________________\n",
      "conv2d_1 (Conv2D)            (None, 11, 11, 64)        18496     \n",
      "_________________________________________________________________\n",
      "max_pooling2d_1 (MaxPooling2 (None, 5, 5, 64)          0         \n",
      "_________________________________________________________________\n",
      "flatten (Flatten)            (None, 1600)              0         \n",
      "_________________________________________________________________\n",
      "dense (Dense)                (None, 128)               204928    \n",
      "_________________________________________________________________\n",
      "dropout (Dropout)            (None, 128)               0         \n",
      "_________________________________________________________________\n",
      "dense_1 (Dense)              (None, 64)                8256      \n",
      "_________________________________________________________________\n",
      "dropout_1 (Dropout)          (None, 64)                0         \n",
      "_________________________________________________________________\n",
      "dense_2 (Dense)              (None, 10)                650       \n",
      "=================================================================\n",
      "Total params: 232,650\n",
      "Trainable params: 232,650\n",
      "Non-trainable params: 0\n",
      "_________________________________________________________________\n"
     ]
    }
   ],
   "source": [
    "model.summary()"
   ]
  },
  {
   "cell_type": "markdown",
   "metadata": {},
   "source": [
    "### Model fitting"
   ]
  },
  {
   "cell_type": "code",
   "execution_count": 34,
   "metadata": {
    "execution": {
     "iopub.execute_input": "2025-09-22T21:09:35.534883Z",
     "iopub.status.busy": "2025-09-22T21:09:35.534443Z",
     "iopub.status.idle": "2025-09-22T21:09:51.332112Z",
     "shell.execute_reply": "2025-09-22T21:09:51.331412Z",
     "shell.execute_reply.started": "2025-09-22T21:09:35.534699Z"
    },
    "trusted": true
   },
   "outputs": [
    {
     "name": "stdout",
     "output_type": "stream",
     "text": [
      "Train on 20580 samples, validate on 8820 samples\n",
      "Epoch 1/10\n",
      "20580/20580 - 7s - loss: 0.5658 - accuracy: 0.8206 - val_loss: 0.1233 - val_accuracy: 0.9615\n",
      "Epoch 2/10\n",
      "20580/20580 - 1s - loss: 0.1450 - accuracy: 0.9573 - val_loss: 0.1002 - val_accuracy: 0.9687\n",
      "Epoch 3/10\n",
      "20580/20580 - 1s - loss: 0.1043 - accuracy: 0.9676 - val_loss: 0.0795 - val_accuracy: 0.9749\n",
      "Epoch 4/10\n",
      "20580/20580 - 1s - loss: 0.0818 - accuracy: 0.9757 - val_loss: 0.0656 - val_accuracy: 0.9788\n",
      "Epoch 5/10\n",
      "20580/20580 - 1s - loss: 0.0623 - accuracy: 0.9821 - val_loss: 0.0594 - val_accuracy: 0.9812\n",
      "Epoch 6/10\n",
      "20580/20580 - 1s - loss: 0.0561 - accuracy: 0.9830 - val_loss: 0.0563 - val_accuracy: 0.9831\n",
      "Epoch 7/10\n",
      "20580/20580 - 1s - loss: 0.0464 - accuracy: 0.9867 - val_loss: 0.0598 - val_accuracy: 0.9841\n",
      "Epoch 8/10\n",
      "20580/20580 - 1s - loss: 0.0379 - accuracy: 0.9884 - val_loss: 0.0561 - val_accuracy: 0.9849\n",
      "Epoch 9/10\n",
      "20580/20580 - 1s - loss: 0.0372 - accuracy: 0.9889 - val_loss: 0.0626 - val_accuracy: 0.9834\n",
      "Epoch 10/10\n",
      "20580/20580 - 1s - loss: 0.0312 - accuracy: 0.9901 - val_loss: 0.0507 - val_accuracy: 0.9865\n"
     ]
    }
   ],
   "source": [
    "history = model.fit(X_train, y_train_enc,\n",
    "                    epochs=EPOCHS,\n",
    "                    batch_size=BATCH_SIZE,\n",
    "                    verbose=VERBOSE,\n",
    "                    validation_split=0.3)"
   ]
  },
  {
   "cell_type": "markdown",
   "metadata": {},
   "source": [
    "### Accurayc and loss"
   ]
  },
  {
   "cell_type": "code",
   "execution_count": 35,
   "metadata": {
    "execution": {
     "iopub.execute_input": "2025-09-22T21:10:21.575074Z",
     "iopub.status.busy": "2025-09-22T21:10:21.574757Z",
     "iopub.status.idle": "2025-09-22T21:10:21.949597Z",
     "shell.execute_reply": "2025-09-22T21:10:21.948709Z",
     "shell.execute_reply.started": "2025-09-22T21:10:21.575025Z"
    },
    "trusted": true
   },
   "outputs": [
    {
     "data": {
      "image/png": "[encoded data removed]",
      "text/plain": [
       "<Figure size 1008x360 with 2 Axes>"
      ]
     },
     "metadata": {
      "needs_background": "light"
     },
     "output_type": "display_data"
    }
   ],
   "source": [
    "plt.figure(figsize=(14, 5))\n",
    "\n",
    "plt.subplot(1, 2, 1)\n",
    "plt.plot(history.history['accuracy'], label='Training Accuracy')\n",
    "plt.plot(history.history['val_accuracy'], label='Validation Accuracy')\n",
    "plt.legend(loc='lower right')\n",
    "plt.title('Training and Validation Accuracy')\n",
    "\n",
    "plt.subplot(1, 2, 2)\n",
    "plt.plot(history.history['loss'], label='Training Loss')\n",
    "plt.plot(history.history['val_loss'], label='Validation Loss')\n",
    "plt.legend(loc='upper right')\n",
    "plt.title('Training and Validation Loss')\n",
    "\n",
    "plt.savefig('./foo.png')\n",
    "plt.show()"
   ]
  },
  {
   "cell_type": "markdown",
   "metadata": {},
   "source": [
    "### Evaluating on validationa dataset"
   ]
  },
  {
   "cell_type": "code",
   "execution_count": 36,
   "metadata": {
    "execution": {
     "iopub.execute_input": "2025-09-22T21:10:30.891111Z",
     "iopub.status.busy": "2025-09-22T21:10:30.890778Z",
     "iopub.status.idle": "2025-09-22T21:10:31.956077Z",
     "shell.execute_reply": "2025-09-22T21:10:31.955225Z",
     "shell.execute_reply.started": "2025-09-22T21:10:30.891055Z"
    },
    "trusted": true
   },
   "outputs": [
    {
     "data": {
      "text/plain": [
       "[0.040460299108960915, 0.98769844]"
      ]
     },
     "execution_count": 36,
     "metadata": {},
     "output_type": "execute_result"
    }
   ],
   "source": [
    "# model loss and accuracy on validation set\n",
    "model.evaluate(X_val, y_val_enc, verbose=False)"
   ]
  },
  {
   "cell_type": "code",
   "execution_count": 38,
   "metadata": {
    "execution": {
     "iopub.execute_input": "2025-09-22T21:11:51.333997Z",
     "iopub.status.busy": "2025-09-22T21:11:51.333740Z",
     "iopub.status.idle": "2025-09-22T21:11:51.972250Z",
     "shell.execute_reply": "2025-09-22T21:11:51.971451Z",
     "shell.execute_reply.started": "2025-09-22T21:11:51.333960Z"
    },
    "trusted": true
   },
   "outputs": [
    {
     "name": "stdout",
     "output_type": "stream",
     "text": [
      "[8.1040871e-06 8.5291023e-05 2.7781079e-04 9.9879020e-01 7.9396011e-07\n",
      " 5.8918528e-04 5.6671824e-06 6.8053523e-05 1.4386266e-04 3.1122399e-05]\n",
      "3\n"
     ]
    }
   ],
   "source": [
    "# predicted values\n",
    "y_pred_enc = model.predict(X_val)\n",
    "\n",
    "# actual\n",
    "y_act = [np.argmax(i) for i in y_val_enc]\n",
    "\n",
    "# decoding predicted values\n",
    "y_pred = [np.argmax(i) for i in y_pred_enc]\n",
    "\n",
    "print(y_pred_enc[0])\n",
    "print(y_pred[0])"
   ]
  },
  {
   "cell_type": "code",
   "execution_count": 39,
   "metadata": {
    "execution": {
     "iopub.execute_input": "2025-09-22T21:12:02.922388Z",
     "iopub.status.busy": "2025-09-22T21:12:02.922041Z",
     "iopub.status.idle": "2025-09-22T21:12:02.964475Z",
     "shell.execute_reply": "2025-09-22T21:12:02.963491Z",
     "shell.execute_reply.started": "2025-09-22T21:12:02.922307Z"
    },
    "trusted": true
   },
   "outputs": [
    {
     "name": "stdout",
     "output_type": "stream",
     "text": [
      "              precision    recall  f1-score   support\n",
      "\n",
      "           0       0.99      0.99      0.99      1263\n",
      "           1       0.99      1.00      0.99      1432\n",
      "           2       0.99      0.99      0.99      1294\n",
      "           3       0.99      0.98      0.99      1323\n",
      "           4       0.99      0.98      0.99      1136\n",
      "           5       0.99      0.98      0.98      1153\n",
      "           6       0.98      0.99      0.99      1195\n",
      "           7       0.98      0.99      0.99      1301\n",
      "           8       0.98      0.98      0.98      1218\n",
      "           9       0.98      0.99      0.98      1285\n",
      "\n",
      "    accuracy                           0.99     12600\n",
      "   macro avg       0.99      0.99      0.99     12600\n",
      "weighted avg       0.99      0.99      0.99     12600\n",
      "\n"
     ]
    }
   ],
   "source": [
    "print(classification_report(y_act, y_pred))"
   ]
  },
  {
   "cell_type": "code",
   "execution_count": 40,
   "metadata": {
    "execution": {
     "iopub.execute_input": "2025-09-22T21:12:17.699203Z",
     "iopub.status.busy": "2025-09-22T21:12:17.698907Z",
     "iopub.status.idle": "2025-09-22T21:12:18.190525Z",
     "shell.execute_reply": "2025-09-22T21:12:18.189509Z",
     "shell.execute_reply.started": "2025-09-22T21:12:17.699159Z"
    },
    "trusted": true
   },
   "outputs": [
    {
     "data": {
      "image/png": "[encoded data removed]",
      "text/plain": [
       "<Figure size 504x504 with 1 Axes>"
      ]
     },
     "metadata": {
      "needs_background": "light"
     },
     "output_type": "display_data"
    }
   ],
   "source": [
    "fig, ax = plt.subplots(figsize=(7, 7))\n",
    "sns.heatmap(confusion_matrix(y_act, y_pred), annot=True, \n",
    "            cbar=False, fmt='1d', cmap='Blues', ax=ax)\n",
    "ax.set_title('Confusion Matrix', loc='left', fontsize=16)\n",
    "ax.set_xlabel('Predicted')\n",
    "ax.set_ylabel('Actual')\n",
    "plt.show()"
   ]
  },
  {
   "cell_type": "markdown",
   "metadata": {},
   "source": [
    "### Predicting on test"
   ]
  },
  {
   "cell_type": "code",
   "execution_count": 41,
   "metadata": {
    "execution": {
     "iopub.execute_input": "2025-09-22T21:13:00.757469Z",
     "iopub.status.busy": "2025-09-22T21:13:00.757187Z",
     "iopub.status.idle": "2025-09-22T21:13:02.306004Z",
     "shell.execute_reply": "2025-09-22T21:13:02.304938Z",
     "shell.execute_reply.started": "2025-09-22T21:13:00.757429Z"
    },
    "trusted": true
   },
   "outputs": [
    {
     "name": "stdout",
     "output_type": "stream",
     "text": [
      "[1.8387224e-09 1.6731534e-10 1.0000000e+00 1.2793820e-09 8.0939741e-11\n",
      " 3.0834194e-12 1.2196265e-09 5.4949972e-08 2.2351687e-09 1.2756550e-11]\n",
      "2\n"
     ]
    }
   ],
   "source": [
    "# predicted values\n",
    "y_pred_enc = model.predict(test)\n",
    "\n",
    "# decoding predicted values\n",
    "y_pred = [np.argmax(i) for i in y_pred_enc]\n",
    "\n",
    "print(y_pred_enc[0])\n",
    "print(y_pred[0])"
   ]
  },
  {
   "cell_type": "code",
   "execution_count": 42,
   "metadata": {
    "execution": {
     "iopub.execute_input": "2025-09-22T21:14:09.458910Z",
     "iopub.status.busy": "2025-09-22T21:14:09.458481Z",
     "iopub.status.idle": "2025-09-22T21:14:10.339827Z",
     "shell.execute_reply": "2025-09-22T21:14:10.338961Z",
     "shell.execute_reply.started": "2025-09-22T21:14:09.458841Z"
    },
    "trusted": true
   },
   "outputs": [
    {
     "data": {
      "image/png": "[encoded data removed]",
      "text/plain": [
       "<Figure size 1296x864 with 15 Axes>"
      ]
     },
     "metadata": {
      "needs_background": "light"
     },
     "output_type": "display_data"
    }
   ],
   "source": [
    "# predicted targets of each images\n",
    "# (labels above the images are predicted labels)\n",
    "fig, ax = plt.subplots(figsize=(18, 12))\n",
    "for ind, row in enumerate(test[:15]):\n",
    "    plt.subplot(3, 5, ind+1)\n",
    "    plt.title(y_pred[ind])\n",
    "    img = row.reshape(28, 28)\n",
    "    fig.suptitle('Predicted values', fontsize=24)\n",
    "    plt.axis('off')\n",
    "    plt.imshow(img, cmap='cividis')"
   ]
  },
  {
   "cell_type": "code",
   "execution_count": null,
   "metadata": {
    "trusted": true
   },
   "outputs": [],
   "source": []
  },
  {
   "cell_type": "code",
   "execution_count": null,
   "metadata": {
    "trusted": true
   },
   "outputs": [],
   "source": []
  },
  {
   "cell_type": "code",
   "execution_count": null,
   "metadata": {
    "trusted": true
   },
   "outputs": [],
   "source": []
  },
  {
   "cell_type": "code",
   "execution_count": null,
   "metadata": {
    "trusted": true
   },
   "outputs": [],
   "source": []
  }
 ],
 "metadata": {
  "kaggle": {
   "accelerator": "nvidiaTeslaT4",
   "dataSources": [
    {
     "databundleVersionId": 861823,
     "sourceId": 3004,
     "sourceType": "competition"
    }
   ],
   "dockerImageVersionId": 29837,
   "isGpuEnabled": true,
   "isInternetEnabled": false,
   "language": "python",
   "sourceType": "notebook"
  },
  "kernelspec": {
   "display_name": "Python 3",
   "language": "python",
   "name": "python3"
  },
  "language_info": {
   "codemirror_mode": {
    "name": "ipython",
    "version": 3
   },
   "file_extension": ".py",
   "mimetype": "text/x-python",
   "name": "python",
   "nbconvert_exporter": "python",
   "pygments_lexer": "ipython3",
   "version": "3.6.6"
  }
 },
 "nbformat": 4,
 "nbformat_minor": 4
}
